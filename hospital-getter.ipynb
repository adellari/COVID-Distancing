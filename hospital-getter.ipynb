{
 "cells": [
  {
   "cell_type": "code",
   "execution_count": 167,
   "metadata": {},
   "outputs": [
    {
     "name": "stdout",
     "output_type": "stream",
     "text": [
      "User location: 38.9091, -77.0203\n"
     ]
    },
    {
     "data": {
      "text/plain": [
       "'1448 6th St NW Washington DC 20001'"
      ]
     },
     "execution_count": 167,
     "metadata": {},
     "output_type": "execute_result"
    }
   ],
   "source": [
    "import json\n",
    "import requests\n",
    "from bs4 import BeautifulSoup as bs\n",
    "import random\n",
    "import math\n",
    "\n",
    "def currentAddy():\n",
    "    data = json.loads(requests.get('http://ip-api.com/json/').content)\n",
    "    lat = data['lat']\n",
    "    lon = data['lon']\n",
    "    print('User location: ' + str(lat) + ', ' + str(lon))\n",
    "    result = requests.get(('http://www.mapquestapi.com/geocoding/v1/reverse?'\n",
    "                         'key=HHtMzHkqE6RLT3EA3RA1TuZ8G2rVyvt4&location=' + str(lat) +',' + str(lon)))\n",
    "    \n",
    "    rJson = json.loads(result.content)\n",
    "    location = rJson['results'][0]['locations'][0]\n",
    "    return (location['street'] + ' ' + location['adminArea5'] + ' ' \n",
    "           + location['adminArea3'] + ' ' + location['postalCode'])\n",
    "    \n",
    "currentAddy()"
   ]
  },
  {
   "cell_type": "code",
   "execution_count": 159,
   "metadata": {},
   "outputs": [],
   "source": [
    "def optimalRoute(fromLoc, toLoc):\n",
    "    apiKey = 'HHtMzHkqE6RLT3EA3RA1TuZ8G2rVyvt4'\n",
    "    requestStart = (\"http://www.mapquestapi.com/directions/v2/route?\" \n",
    "                      \"key=HHtMzHkqE6RLT3EA3RA1TuZ8G2rVyvt4&from=\")\n",
    "\n",
    "    requestFrom = fromLoc.replace(' ', '+')\n",
    "\n",
    "    requestTo = (\"&to=\" + toLoc.replace(' ' , '+'))\n",
    "    #print(requestStart + requestFrom + requestTo)\n",
    "\n",
    "    output = requests.get(\"http://www.mapquestapi.com/directions/v2/route?\" \n",
    "                          \"key=HHtMzHkqE6RLT3EA3RA1TuZ8G2rVyvt4&from=\" \n",
    "                          + requestFrom + requestTo)\n",
    "    \n",
    "    jOutput = json.loads(output.content)\n",
    "    #print(jOutput)\n",
    "    distance = jOutput[\"route\"]['distance']\n",
    "    driveTime = jOutput['route']['time']\n",
    "    return [distance, driveTime]"
   ]
  },
  {
   "cell_type": "code",
   "execution_count": 170,
   "metadata": {},
   "outputs": [
    {
     "name": "stdout",
     "output_type": "stream",
     "text": [
      "User location: 38.9091, -77.0203\n",
      "Search Radius: 25\n",
      "ledger searching state: DC\n",
      "Hospital within proximity: MedStar Health Urgent Care - Adams Morgan waitID: 1276\n",
      "Hospital address: 1805 Columbia Rd. NW MD 20009\n",
      "Distance to hospital: 2.135 miles, drive time: 6 minutes\n",
      "\n",
      "Hospital within proximity: Metro Immediate and Primary Care - Capitol Hill/Noma waitID: 332\n",
      "Hospital address: 220 L St NE  MD 20002\n",
      "Distance to hospital: 3.932 miles, drive time: 9 minutes\n",
      "\n",
      "Hospital within proximity: MedStar Health Urgent Care - Capitol Hill waitID: 1278\n",
      "Hospital address: 228 7th St. SE MD 20003\n",
      "Distance to hospital: 2.802 miles, drive time: 8 minutes\n",
      "\n",
      "Hospital within proximity: Metro Immediate and Primary Care - Cleveland Park waitID: 331\n",
      "Hospital address: 2902 Porter Street, NW MD 20008\n",
      "Distance to hospital: 3.732 miles, drive time: 10 minutes\n",
      "\n"
     ]
    }
   ],
   "source": [
    "sampleAddress = currentAddy()\n",
    "\n",
    "#sampleAddress = '11408 Cherry Hill rd, Silver Spring, MD 20705'\n",
    "searchRad = random.choice([5, 10, 15, 20, 25, 30])\n",
    "print('Search Radius: ' + str(searchRad))\n",
    "with open('hospital-ledger.json') as f:\n",
    "    ledger = json.load(f)\n",
    "_zip = sampleAddress[-5:]\n",
    "\n",
    "resultsPage = requests.get('https://www.zip-codes.com/zip-code-radius-finder.asp?zipmileslow=0&zipmileshigh=' + \n",
    "                           str(searchRad) + '&zip1=' + _zip + '&submit=Search')\n",
    "page = bs(resultsPage.content, 'html.parser')\n",
    "resultsTable = page.findAll('table')[0].findAll('table')[1].findAll('tr')\n",
    "#print(resultsTable)\n",
    "statesList = []\n",
    "zipList = []\n",
    "#print(resultsTable[1])\n",
    "for result in resultsTable:\n",
    "    sList = result.findAll('td')\n",
    "    if len(sList) is 8:\n",
    "        _state = sList[4].get_text()\n",
    "        _zip = sList[1].get_text()\n",
    "        if state not in statesList:\n",
    "            statesList.append(_state)\n",
    "        if _zip not in zipList:\n",
    "            zipList.append(_zip)\n",
    "            \n",
    "zipList.append('21229')\n",
    "fetchedIDs = []            \n",
    "hospitalNames = []      \n",
    "hWaits = []\n",
    "hAddies = []\n",
    "\n",
    "for state in statesList:\n",
    "    print('ledger searching state: ' + state)\n",
    "    if _state in ledger['State']:\n",
    "        for _zip in zipList:\n",
    "            if _zip in ledger['State'][state]['Zip']:\n",
    "                #print('Zip code: ' + _zip)\n",
    "                _hospDir = ledger['State'][state]['Zip'][_zip]['Hospital']\n",
    "                for idx, _hosp in enumerate(_hospDir):\n",
    "                    _hName = list(_hospDir)[idx]\n",
    "                    if _hName not in hospitalNames:\n",
    "                        hospitalNames.append(_hName)\n",
    "                        fetchedIDs.append(_hospDir[_hName]['waitID'])\n",
    "                        _address = _hospDir[_hName]['address'] + ' ' + _state + ' ' + _zip\n",
    "                        hAddies.append(_address) \n",
    "                        print('Hospital within proximity: ' + _hName + ' waitID: ' + \n",
    "                              str(_hospDir[_hName]['waitID']), end ='\\n')\n",
    "                        print('Hospital address: ' + _address)\n",
    "                        _calcOut = optimalRoute(sampleAddress, _address)\n",
    "                        print('Distance to hospital: ' + \n",
    "                              str(_calcOut[0]) \n",
    "                              + ' miles, drive time: ' + str(math.trunc(_calcOut[1] / 60)) + ' minutes', end='\\n'*2)\n",
    "    \n",
    "#print(_zip)\n",
    "#print(resultsTable[1].findAll('td')[4].get_text())\n",
    "#print(statesList)\n",
    "#print(zipList)\n",
    "#print(_table)\n",
    "#print(ledger)"
   ]
  },
  {
   "cell_type": "code",
   "execution_count": 99,
   "metadata": {},
   "outputs": [
    {
     "name": "stdout",
     "output_type": "stream",
     "text": [
      "38.9091, -77.0203\n"
     ]
    }
   ],
   "source": [
    "import urllib, json\n",
    "\n",
    "data = json.loads(requests.get('http://ip-api.com/json/').content)\n",
    "print(str(data[\"lat\"]) + ', ' + str(data['lon']))"
   ]
  }
 ],
 "metadata": {
  "kernelspec": {
   "display_name": "Python 3",
   "language": "python",
   "name": "python3"
  },
  "language_info": {
   "codemirror_mode": {
    "name": "ipython",
    "version": 3
   },
   "file_extension": ".py",
   "mimetype": "text/x-python",
   "name": "python",
   "nbconvert_exporter": "python",
   "pygments_lexer": "ipython3",
   "version": "3.7.3"
  }
 },
 "nbformat": 4,
 "nbformat_minor": 2
}
